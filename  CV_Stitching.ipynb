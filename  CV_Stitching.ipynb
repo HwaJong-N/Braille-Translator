{
 "cells": [
  {
   "cell_type": "code",
   "execution_count": 1,
   "id": "83c76776",
   "metadata": {},
   "outputs": [],
   "source": [
    "import cv2 \n",
    "from matplotlib import pyplot as plt\n",
    "\n",
    "# 시작 함수\n",
    "\n",
    "def stitching(dec, func):\n",
    "\n",
    "    img1, img2, gray1, gray2 = loadImage('C:\\\\Users\\\\HwaJong\\\\Desktop\\\\test\\\\koreatech\\\\image1.jpg', \\\n",
    "                                        'C:\\\\Users\\\\HwaJong\\\\Desktop\\\\test\\\\koreatech\\\\image2.jpg')\n",
    "\n",
    "    key1, key2, des1, des2 = findKeyPoints(gray1, gray2, dec)\n",
    "    matching(img1, img2, key1, key2, des1, des2, func)"
   ]
  },
  {
   "cell_type": "code",
   "execution_count": 2,
   "id": "017d3d1a",
   "metadata": {},
   "outputs": [],
   "source": [
    "# 이미지 로드\n",
    "\n",
    "def loadImage(path1, path2):\n",
    "    img1 = cv2.imread(path1)\n",
    "    img2 = cv2.imread(path2)\n",
    "\n",
    "    gray1 = cv2.cvtColor(img1, cv2.COLOR_BGR2GRAY)\n",
    "    gray2 = cv2.cvtColor(img2, cv2.COLOR_BGR2GRAY)\n",
    "    \n",
    "    return img1, img2, gray1, gray2"
   ]
  },
  {
   "cell_type": "code",
   "execution_count": 3,
   "id": "244d24c2",
   "metadata": {},
   "outputs": [],
   "source": [
    "# detector 생성 및 특징점 추출\n",
    "\n",
    "def findKeyPoints(img1, img2, name):\n",
    "\n",
    "    # 추출기 생성\n",
    "    if name == 'orb':\n",
    "        obj = cv2.ORB_create()\n",
    "    elif name == 'sift':\n",
    "        obj = cv2.xfeatures2d.SIFT_create()\n",
    "    elif name == 'surf':\n",
    "        obj = cv2.xfeatures2d.SURF_create()\n",
    "    elif name == 'kaze':\n",
    "        obj = cv2.KAZE_create()\n",
    "    elif name == 'brisk':\n",
    "        obj = cv2.BRISK_create()\n",
    "    elif name == 'akaze':\n",
    "        obj = cv2.AKAZE.create()\n",
    "\n",
    "    keypoints_1, descriptors_1 = obj.detectAndCompute(img1,None)\n",
    "    keypoints_2, descriptors_2 = obj.detectAndCompute(img2,None)\n",
    "    \n",
    "    print('keypoints_1 :',len(keypoints_1), ' / descriptors_1:', descriptors_1.shape)\n",
    "    print('keypoints_2 :',len(keypoints_2), ' / descriptors_2:', descriptors_2.shape)\n",
    "    \n",
    "    return keypoints_1, keypoints_2, descriptors_1, descriptors_2"
   ]
  },
  {
   "cell_type": "code",
   "execution_count": 4,
   "id": "3aa6e948",
   "metadata": {},
   "outputs": [],
   "source": [
    "# 두 개 이미지의 특징점 매칭\n",
    "\n",
    "def matching(img1, img2, key1, key2, des1, des2, func):\n",
    "    \n",
    "    if func == 'match':\n",
    "        #feature matching\n",
    "        matcher = cv2.BFMatcher(cv2.NORM_L2, crossCheck=True)\n",
    "        matches = matcher.match(des1,des2)\n",
    "        \n",
    "        # 매칭 결과를 거리기준 오름차순으로 정렬\n",
    "        matches = sorted(matches, key = lambda x:x.distance)\n",
    "        img3 = cv2.drawMatches(img1, key1, img2, key2, matches[:600], img2, flags=2)\n",
    "        \n",
    "        \n",
    "    elif func == 'knn':\n",
    "        matcher = cv2.BFMatcher()\n",
    "        matches = matcher.knnMatch(des1, des2, 2)\n",
    "        good = [[first] for first, second in matches if first.distance < 0.75 * second.distance]\n",
    "        img3 = cv2.drawMatchesKnn(img1, key1, img2, key2, good, None, flags=2)\n",
    "\n",
    "    plt.imshow(img3)\n",
    "    plt.show()"
   ]
  },
  {
   "cell_type": "code",
   "execution_count": null,
   "id": "2797caec",
   "metadata": {},
   "outputs": [],
   "source": [
    "# detector 종류\n",
    "detector = ['orb', 'sift', 'surf', 'kaze', 'akaze', 'brisk']\n",
    "\n",
    "# match() 사용\n",
    "for i in detector:\n",
    "    print(i, 'match')\n",
    "    stitching(i, 'match')\n",
    "    \n",
    "# knnMatch() 사용\n",
    "for i in detector:\n",
    "    print(i, 'knn')\n",
    "    stitching(i, 'knn')"
   ]
  }
 ],
 "metadata": {
  "kernelspec": {
   "display_name": "cv",
   "language": "python",
   "name": "cv"
  },
  "language_info": {
   "codemirror_mode": {
    "name": "ipython",
    "version": 3
   },
   "file_extension": ".py",
   "mimetype": "text/x-python",
   "name": "python",
   "nbconvert_exporter": "python",
   "pygments_lexer": "ipython3",
   "version": "3.7.15"
  }
 },
 "nbformat": 4,
 "nbformat_minor": 5
}
